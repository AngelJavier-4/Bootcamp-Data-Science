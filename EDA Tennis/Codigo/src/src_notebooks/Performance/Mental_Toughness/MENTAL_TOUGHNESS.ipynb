{
 "cells": [
  {
   "cell_type": "code",
   "execution_count": 11,
   "id": "f4baa9b0-ce19-42eb-a165-a4a9b5a7dc76",
   "metadata": {},
   "outputs": [
    {
     "data": {
      "text/html": [
       "        <script type=\"text/javascript\">\n",
       "        window.PlotlyConfig = {MathJaxConfig: 'local'};\n",
       "        if (window.MathJax) {MathJax.Hub.Config({SVG: {font: \"STIX-Web\"}});}\n",
       "        if (typeof require !== 'undefined') {\n",
       "        require.undef(\"plotly\");\n",
       "        requirejs.config({\n",
       "            paths: {\n",
       "                'plotly': ['https://cdn.plot.ly/plotly-2.2.0.min']\n",
       "            }\n",
       "        });\n",
       "        require(['plotly'], function(Plotly) {\n",
       "            window._Plotly = Plotly;\n",
       "        });\n",
       "        }\n",
       "        </script>\n",
       "        "
      ]
     },
     "metadata": {},
     "output_type": "display_data"
    }
   ],
   "source": [
    "import pandas as pd\n",
    "import numpy as np\n",
    "import seaborn as sns\n",
    "from plotly.offline import init_notebook_mode, iplot, plot\n",
    "import plotly as py\n",
    "init_notebook_mode(connected=True)\n",
    "import plotly.graph_objs as go\n",
    "\n",
    "#Lectura del csv\n",
    "mental_toughness = pd.read_csv('MentalToughness.csv')\n"
   ]
  },
  {
   "cell_type": "code",
   "execution_count": 12,
   "id": "bee3e5ef-dbf7-4e58-9d3d-140aa373ed7c",
   "metadata": {
    "tags": []
   },
   "outputs": [
    {
     "data": {
      "text/html": [
       "<div>\n",
       "<style scoped>\n",
       "    .dataframe tbody tr th:only-of-type {\n",
       "        vertical-align: middle;\n",
       "    }\n",
       "\n",
       "    .dataframe tbody tr th {\n",
       "        vertical-align: top;\n",
       "    }\n",
       "\n",
       "    .dataframe thead th {\n",
       "        text-align: right;\n",
       "    }\n",
       "</style>\n",
       "<table border=\"1\" class=\"dataframe\">\n",
       "  <thead>\n",
       "    <tr style=\"text-align: right;\">\n",
       "      <th></th>\n",
       "      <th>name</th>\n",
       "      <th>country_id</th>\n",
       "      <th>decidingSets</th>\n",
       "      <th>fifthSets</th>\n",
       "      <th>finals</th>\n",
       "      <th>tieBreaks</th>\n",
       "      <th>decidingSetTieBreaks</th>\n",
       "      <th>decidingSetTieBreaksPct</th>\n",
       "      <th>finalsPct</th>\n",
       "      <th>fifthSetsPct</th>\n",
       "      <th>tieBreaksPct</th>\n",
       "      <th>decidingSetsPct</th>\n",
       "    </tr>\n",
       "  </thead>\n",
       "  <tbody>\n",
       "    <tr>\n",
       "      <th>0</th>\n",
       "      <td>Novak Djokovic</td>\n",
       "      <td>SRB</td>\n",
       "      <td>190-69</td>\n",
       "      <td>34-10</td>\n",
       "      <td>84-36</td>\n",
       "      <td>272-149</td>\n",
       "      <td>18-8</td>\n",
       "      <td>69.2%</td>\n",
       "      <td>70.0%</td>\n",
       "      <td>77.3%</td>\n",
       "      <td>64.6%</td>\n",
       "      <td>73.4%</td>\n",
       "    </tr>\n",
       "    <tr>\n",
       "      <th>1</th>\n",
       "      <td>Bjorn Borg</td>\n",
       "      <td>SWE</td>\n",
       "      <td>121-43</td>\n",
       "      <td>27-6</td>\n",
       "      <td>66-26</td>\n",
       "      <td>98-81</td>\n",
       "      <td>14-6</td>\n",
       "      <td>70.0%</td>\n",
       "      <td>71.7%</td>\n",
       "      <td>81.8%</td>\n",
       "      <td>54.7%</td>\n",
       "      <td>73.8%</td>\n",
       "    </tr>\n",
       "    <tr>\n",
       "      <th>2</th>\n",
       "      <td>Rod Laver</td>\n",
       "      <td>AUS</td>\n",
       "      <td>147-65</td>\n",
       "      <td>25-9</td>\n",
       "      <td>72-27</td>\n",
       "      <td>70-54</td>\n",
       "      <td>10-8</td>\n",
       "      <td>55.6%</td>\n",
       "      <td>72.7%</td>\n",
       "      <td>73.5%</td>\n",
       "      <td>56.5%</td>\n",
       "      <td>69.3%</td>\n",
       "    </tr>\n",
       "    <tr>\n",
       "      <th>3</th>\n",
       "      <td>Kei Nishikori</td>\n",
       "      <td>JPN</td>\n",
       "      <td>142-54</td>\n",
       "      <td>25-7</td>\n",
       "      <td>12-14</td>\n",
       "      <td>133-92</td>\n",
       "      <td>15-8</td>\n",
       "      <td>65.2%</td>\n",
       "      <td>46.2%</td>\n",
       "      <td>78.1%</td>\n",
       "      <td>59.1%</td>\n",
       "      <td>72.4%</td>\n",
       "    </tr>\n",
       "    <tr>\n",
       "      <th>4</th>\n",
       "      <td>Andy Murray</td>\n",
       "      <td>GBR</td>\n",
       "      <td>163-71</td>\n",
       "      <td>25-12</td>\n",
       "      <td>46-22</td>\n",
       "      <td>205-125</td>\n",
       "      <td>21-11</td>\n",
       "      <td>65.6%</td>\n",
       "      <td>67.6%</td>\n",
       "      <td>67.6%</td>\n",
       "      <td>62.1%</td>\n",
       "      <td>69.7%</td>\n",
       "    </tr>\n",
       "  </tbody>\n",
       "</table>\n",
       "</div>"
      ],
      "text/plain": [
       "             name country_id decidingSets fifthSets finals tieBreaks  \\\n",
       "0  Novak Djokovic        SRB       190-69     34-10  84-36   272-149   \n",
       "1      Bjorn Borg        SWE       121-43      27-6  66-26     98-81   \n",
       "2       Rod Laver        AUS       147-65      25-9  72-27     70-54   \n",
       "3   Kei Nishikori        JPN       142-54      25-7  12-14    133-92   \n",
       "4     Andy Murray        GBR       163-71     25-12  46-22   205-125   \n",
       "\n",
       "  decidingSetTieBreaks decidingSetTieBreaksPct finalsPct fifthSetsPct  \\\n",
       "0                 18-8                   69.2%     70.0%        77.3%   \n",
       "1                 14-6                   70.0%     71.7%        81.8%   \n",
       "2                 10-8                   55.6%     72.7%        73.5%   \n",
       "3                 15-8                   65.2%     46.2%        78.1%   \n",
       "4                21-11                   65.6%     67.6%        67.6%   \n",
       "\n",
       "  tieBreaksPct decidingSetsPct  \n",
       "0        64.6%           73.4%  \n",
       "1        54.7%           73.8%  \n",
       "2        56.5%           69.3%  \n",
       "3        59.1%           72.4%  \n",
       "4        62.1%           69.7%  "
      ]
     },
     "execution_count": 12,
     "metadata": {},
     "output_type": "execute_result"
    }
   ],
   "source": [
    "#Retocada la tabla mental\n",
    "mental = mental_toughness.copy()\n",
    "#mental.rename(columns = {'value':'BP per Match'}, inplace = True)\n",
    "del mental['rank']\n",
    "del mental['country_name']\n",
    "del mental['active']\n",
    "del mental['pointsWon']\n",
    "del mental['pointsLost']\n",
    "del mental['rating']\n",
    "\n",
    "mental.head()"
   ]
  },
  {
   "cell_type": "code",
   "execution_count": 13,
   "id": "ce0bfdf7-95f3-41be-b181-42b12df083ea",
   "metadata": {},
   "outputs": [],
   "source": [
    "#Reorden agrupando con sentido la tabla anterior\n",
    "a = pd.DataFrame([mental['name'], mental['country_id'], mental['finals'], mental['finalsPct']]).T\n",
    "b = pd.DataFrame([mental['name'], mental['country_id'], mental['tieBreaks'], mental['tieBreaksPct']]).T\n",
    "c= pd.DataFrame([mental['name'], mental['country_id'], mental['decidingSets'], mental['decidingSetsPct']]).T\n",
    "d = pd.DataFrame([mental['name'], mental['country_id'], mental['fifthSets'], mental['fifthSetsPct']]).T\n",
    "e = pd.DataFrame([mental['name'], mental['country_id'], mental['decidingSetTieBreaks'], mental['decidingSetTieBreaksPct']]).T"
   ]
  },
  {
   "cell_type": "code",
   "execution_count": 14,
   "id": "f5261f5b-0611-44c9-8cdf-c676a0a9d221",
   "metadata": {},
   "outputs": [
    {
     "data": {
      "text/html": [
       "<div>\n",
       "<style scoped>\n",
       "    .dataframe tbody tr th:only-of-type {\n",
       "        vertical-align: middle;\n",
       "    }\n",
       "\n",
       "    .dataframe tbody tr th {\n",
       "        vertical-align: top;\n",
       "    }\n",
       "\n",
       "    .dataframe thead th {\n",
       "        text-align: right;\n",
       "    }\n",
       "</style>\n",
       "<table border=\"1\" class=\"dataframe\">\n",
       "  <thead>\n",
       "    <tr style=\"text-align: right;\">\n",
       "      <th></th>\n",
       "      <th>name</th>\n",
       "      <th>country_id</th>\n",
       "      <th>finals</th>\n",
       "      <th>finalsPct</th>\n",
       "      <th>tieBreaks</th>\n",
       "      <th>tieBreaksPct</th>\n",
       "      <th>decidingSets</th>\n",
       "      <th>decidingSetsPct</th>\n",
       "      <th>decidingSetTieBreaks</th>\n",
       "      <th>decidingSetTieBreaksPct</th>\n",
       "      <th>fifthSets</th>\n",
       "      <th>fifthSetsPct</th>\n",
       "    </tr>\n",
       "  </thead>\n",
       "  <tbody>\n",
       "    <tr>\n",
       "      <th>0</th>\n",
       "      <td>Novak Djokovic</td>\n",
       "      <td>SRB</td>\n",
       "      <td>84-36</td>\n",
       "      <td>70.0%</td>\n",
       "      <td>272-149</td>\n",
       "      <td>64.6%</td>\n",
       "      <td>190-69</td>\n",
       "      <td>73.4%</td>\n",
       "      <td>18-8</td>\n",
       "      <td>69.2%</td>\n",
       "      <td>34-10</td>\n",
       "      <td>77.3%</td>\n",
       "    </tr>\n",
       "    <tr>\n",
       "      <th>1</th>\n",
       "      <td>Bjorn Borg</td>\n",
       "      <td>SWE</td>\n",
       "      <td>66-26</td>\n",
       "      <td>71.7%</td>\n",
       "      <td>98-81</td>\n",
       "      <td>54.7%</td>\n",
       "      <td>121-43</td>\n",
       "      <td>73.8%</td>\n",
       "      <td>14-6</td>\n",
       "      <td>70.0%</td>\n",
       "      <td>27-6</td>\n",
       "      <td>81.8%</td>\n",
       "    </tr>\n",
       "    <tr>\n",
       "      <th>2</th>\n",
       "      <td>Rod Laver</td>\n",
       "      <td>AUS</td>\n",
       "      <td>72-27</td>\n",
       "      <td>72.7%</td>\n",
       "      <td>70-54</td>\n",
       "      <td>56.5%</td>\n",
       "      <td>147-65</td>\n",
       "      <td>69.3%</td>\n",
       "      <td>10-8</td>\n",
       "      <td>55.6%</td>\n",
       "      <td>25-9</td>\n",
       "      <td>73.5%</td>\n",
       "    </tr>\n",
       "    <tr>\n",
       "      <th>3</th>\n",
       "      <td>Kei Nishikori</td>\n",
       "      <td>JPN</td>\n",
       "      <td>12-14</td>\n",
       "      <td>46.2%</td>\n",
       "      <td>133-92</td>\n",
       "      <td>59.1%</td>\n",
       "      <td>142-54</td>\n",
       "      <td>72.4%</td>\n",
       "      <td>15-8</td>\n",
       "      <td>65.2%</td>\n",
       "      <td>25-7</td>\n",
       "      <td>78.1%</td>\n",
       "    </tr>\n",
       "    <tr>\n",
       "      <th>4</th>\n",
       "      <td>Andy Murray</td>\n",
       "      <td>GBR</td>\n",
       "      <td>46-22</td>\n",
       "      <td>67.6%</td>\n",
       "      <td>205-125</td>\n",
       "      <td>62.1%</td>\n",
       "      <td>163-71</td>\n",
       "      <td>69.7%</td>\n",
       "      <td>21-11</td>\n",
       "      <td>65.6%</td>\n",
       "      <td>25-12</td>\n",
       "      <td>67.6%</td>\n",
       "    </tr>\n",
       "  </tbody>\n",
       "</table>\n",
       "</div>"
      ],
      "text/plain": [
       "             name country_id finals finalsPct tieBreaks tieBreaksPct  \\\n",
       "0  Novak Djokovic        SRB  84-36     70.0%   272-149        64.6%   \n",
       "1      Bjorn Borg        SWE  66-26     71.7%     98-81        54.7%   \n",
       "2       Rod Laver        AUS  72-27     72.7%     70-54        56.5%   \n",
       "3   Kei Nishikori        JPN  12-14     46.2%    133-92        59.1%   \n",
       "4     Andy Murray        GBR  46-22     67.6%   205-125        62.1%   \n",
       "\n",
       "  decidingSets decidingSetsPct decidingSetTieBreaks decidingSetTieBreaksPct  \\\n",
       "0       190-69           73.4%                 18-8                   69.2%   \n",
       "1       121-43           73.8%                 14-6                   70.0%   \n",
       "2       147-65           69.3%                 10-8                   55.6%   \n",
       "3       142-54           72.4%                 15-8                   65.2%   \n",
       "4       163-71           69.7%                21-11                   65.6%   \n",
       "\n",
       "  fifthSets fifthSetsPct  \n",
       "0     34-10        77.3%  \n",
       "1      27-6        81.8%  \n",
       "2      25-9        73.5%  \n",
       "3      25-7        78.1%  \n",
       "4     25-12        67.6%  "
      ]
     },
     "execution_count": 14,
     "metadata": {},
     "output_type": "execute_result"
    }
   ],
   "source": [
    "#Concatenado de todas las tablas\n",
    "LOL = [df.set_index(['name' , 'country_id']) for df in [a, b, c, e, d]]\n",
    "\n",
    "LOL = pd.concat(LOL, axis=1).reset_index()\n",
    "LOL.head()"
   ]
  },
  {
   "cell_type": "code",
   "execution_count": 15,
   "id": "98bd4328-1146-4d68-9311-7ad20696090b",
   "metadata": {},
   "outputs": [
    {
     "data": {
      "text/html": [
       "<div>\n",
       "<style scoped>\n",
       "    .dataframe tbody tr th:only-of-type {\n",
       "        vertical-align: middle;\n",
       "    }\n",
       "\n",
       "    .dataframe tbody tr th {\n",
       "        vertical-align: top;\n",
       "    }\n",
       "\n",
       "    .dataframe thead th {\n",
       "        text-align: right;\n",
       "    }\n",
       "</style>\n",
       "<table border=\"1\" class=\"dataframe\">\n",
       "  <thead>\n",
       "    <tr style=\"text-align: right;\">\n",
       "      <th></th>\n",
       "      <th>name</th>\n",
       "      <th>country_id</th>\n",
       "      <th>finals</th>\n",
       "      <th>finalsPct</th>\n",
       "      <th>tieBreaks</th>\n",
       "      <th>tieBreaksPct</th>\n",
       "      <th>decidingSets</th>\n",
       "      <th>decidingSetsPct</th>\n",
       "      <th>decidingSetTieBreaks</th>\n",
       "      <th>decidingSetTieBreaksPct</th>\n",
       "      <th>fifthSets</th>\n",
       "      <th>fifthSetsPct</th>\n",
       "    </tr>\n",
       "  </thead>\n",
       "  <tbody>\n",
       "    <tr>\n",
       "      <th>0</th>\n",
       "      <td>Novak Djokovic</td>\n",
       "      <td>SRB</td>\n",
       "      <td>84-36</td>\n",
       "      <td>70.0%</td>\n",
       "      <td>272-149</td>\n",
       "      <td>64.6%</td>\n",
       "      <td>190-69</td>\n",
       "      <td>73.4%</td>\n",
       "      <td>18-8</td>\n",
       "      <td>69.2%</td>\n",
       "      <td>34-10</td>\n",
       "      <td>77.3%</td>\n",
       "    </tr>\n",
       "    <tr>\n",
       "      <th>8</th>\n",
       "      <td>Rafael Nadal</td>\n",
       "      <td>ESP</td>\n",
       "      <td>88-37</td>\n",
       "      <td>70.4%</td>\n",
       "      <td>248-162</td>\n",
       "      <td>60.5%</td>\n",
       "      <td>170-76</td>\n",
       "      <td>69.1%</td>\n",
       "      <td>20-17</td>\n",
       "      <td>54.1%</td>\n",
       "      <td>22-12</td>\n",
       "      <td>64.7%</td>\n",
       "    </tr>\n",
       "    <tr>\n",
       "      <th>11</th>\n",
       "      <td>Roger Federer</td>\n",
       "      <td>SUI</td>\n",
       "      <td>103-53</td>\n",
       "      <td>66.0%</td>\n",
       "      <td>463-246</td>\n",
       "      <td>65.3%</td>\n",
       "      <td>232-128</td>\n",
       "      <td>64.4%</td>\n",
       "      <td>36-28</td>\n",
       "      <td>56.3%</td>\n",
       "      <td>31-23</td>\n",
       "      <td>57.4%</td>\n",
       "    </tr>\n",
       "  </tbody>\n",
       "</table>\n",
       "</div>"
      ],
      "text/plain": [
       "              name country_id  finals finalsPct tieBreaks tieBreaksPct  \\\n",
       "0   Novak Djokovic        SRB   84-36     70.0%   272-149        64.6%   \n",
       "8     Rafael Nadal        ESP   88-37     70.4%   248-162        60.5%   \n",
       "11   Roger Federer        SUI  103-53     66.0%   463-246        65.3%   \n",
       "\n",
       "   decidingSets decidingSetsPct decidingSetTieBreaks decidingSetTieBreaksPct  \\\n",
       "0        190-69           73.4%                 18-8                   69.2%   \n",
       "8        170-76           69.1%                20-17                   54.1%   \n",
       "11      232-128           64.4%                36-28                   56.3%   \n",
       "\n",
       "   fifthSets fifthSetsPct  \n",
       "0      34-10        77.3%  \n",
       "8      22-12        64.7%  \n",
       "11     31-23        57.4%  "
      ]
     },
     "execution_count": 15,
     "metadata": {},
     "output_type": "execute_result"
    }
   ],
   "source": [
    "#Mascara\n",
    "big3_MT = LOL[(LOL['name'] == 'Roger Federer') | (LOL['name'] == 'Rafael Nadal') | (LOL['name'] == 'Novak Djokovic')]\n",
    "big3_MT"
   ]
  },
  {
   "cell_type": "code",
   "execution_count": 16,
   "id": "ef0ab50c",
   "metadata": {},
   "outputs": [],
   "source": [
    "big3_MT.to_csv('big3_MT.csv')"
   ]
  },
  {
   "cell_type": "code",
   "execution_count": 17,
   "id": "b0d79de9",
   "metadata": {},
   "outputs": [
    {
     "data": {
      "application/vnd.plotly.v1+json": {
       "config": {
        "linkText": "Export to plot.ly",
        "plotlyServerURL": "https://plot.ly",
        "showLink": false
       },
       "data": [
        {
         "marker": {
          "color": "rgba(255, 174, 255, 0.5)",
          "line": {
           "color": "rgb(0,0,0)",
           "width": 1.5
          }
         },
         "name": "Finals Pct",
         "text": [
          "70.0%",
          "70.4%",
          "66.0%"
         ],
         "type": "bar",
         "x": [
          "Novak Djokovic",
          "Rafael Nadal",
          "Roger Federer"
         ],
         "y": [
          70,
          70.4,
          66
         ]
        },
        {
         "marker": {
          "color": "rgba(255, 255, 128, 0.5)",
          "line": {
           "color": "rgb(0,0,0)",
           "width": 1.5
          }
         },
         "name": "TieBreak Pct",
         "text": [
          "64.6%",
          "60.5%",
          "65.3%"
         ],
         "type": "bar",
         "x": [
          "Novak Djokovic",
          "Rafael Nadal",
          "Roger Federer"
         ],
         "y": [
          64.6,
          60.5,
          65.3
         ]
        },
        {
         "marker": {
          "color": "rgba(255, 150, 56, 0.5)",
          "line": {
           "color": "rgb(0,0,0)",
           "width": 1.5
          }
         },
         "name": "Deciding Set Pct",
         "text": [
          "73.4%",
          "69.1%",
          "64.4%"
         ],
         "type": "bar",
         "x": [
          "Novak Djokovic",
          "Rafael Nadal",
          "Roger Federer"
         ],
         "y": [
          73.4,
          69.1,
          64.4
         ]
        },
        {
         "marker": {
          "color": "rgba(80, 150, 230, 0.5)",
          "line": {
           "color": "rgb(0,0,0)",
           "width": 1.5
          }
         },
         "name": "Deciding Set Tiebreak Pct",
         "text": [
          "69.2%",
          "54.1%",
          "56.3%"
         ],
         "type": "bar",
         "x": [
          "Novak Djokovic",
          "Rafael Nadal",
          "Roger Federer"
         ],
         "y": [
          69.2,
          54.1,
          56.3
         ]
        },
        {
         "marker": {
          "color": "rgba(80, 80, 80, 0.5)",
          "line": {
           "color": "rgb(0,0,0)",
           "width": 1.5
          }
         },
         "name": "Fifth Set Pct",
         "text": [
          "77.3%",
          "64.7%",
          "57.4%"
         ],
         "type": "bar",
         "x": [
          "Novak Djokovic",
          "Rafael Nadal",
          "Roger Federer"
         ],
         "y": [
          77.3,
          64.7,
          57.4
         ]
        }
       ],
       "layout": {
        "barmode": "group",
        "template": {
         "data": {
          "bar": [
           {
            "error_x": {
             "color": "#2a3f5f"
            },
            "error_y": {
             "color": "#2a3f5f"
            },
            "marker": {
             "line": {
              "color": "#E5ECF6",
              "width": 0.5
             },
             "pattern": {
              "fillmode": "overlay",
              "size": 10,
              "solidity": 0.2
             }
            },
            "type": "bar"
           }
          ],
          "barpolar": [
           {
            "marker": {
             "line": {
              "color": "#E5ECF6",
              "width": 0.5
             },
             "pattern": {
              "fillmode": "overlay",
              "size": 10,
              "solidity": 0.2
             }
            },
            "type": "barpolar"
           }
          ],
          "carpet": [
           {
            "aaxis": {
             "endlinecolor": "#2a3f5f",
             "gridcolor": "white",
             "linecolor": "white",
             "minorgridcolor": "white",
             "startlinecolor": "#2a3f5f"
            },
            "baxis": {
             "endlinecolor": "#2a3f5f",
             "gridcolor": "white",
             "linecolor": "white",
             "minorgridcolor": "white",
             "startlinecolor": "#2a3f5f"
            },
            "type": "carpet"
           }
          ],
          "choropleth": [
           {
            "colorbar": {
             "outlinewidth": 0,
             "ticks": ""
            },
            "type": "choropleth"
           }
          ],
          "contour": [
           {
            "colorbar": {
             "outlinewidth": 0,
             "ticks": ""
            },
            "colorscale": [
             [
              0,
              "#0d0887"
             ],
             [
              0.1111111111111111,
              "#46039f"
             ],
             [
              0.2222222222222222,
              "#7201a8"
             ],
             [
              0.3333333333333333,
              "#9c179e"
             ],
             [
              0.4444444444444444,
              "#bd3786"
             ],
             [
              0.5555555555555556,
              "#d8576b"
             ],
             [
              0.6666666666666666,
              "#ed7953"
             ],
             [
              0.7777777777777778,
              "#fb9f3a"
             ],
             [
              0.8888888888888888,
              "#fdca26"
             ],
             [
              1,
              "#f0f921"
             ]
            ],
            "type": "contour"
           }
          ],
          "contourcarpet": [
           {
            "colorbar": {
             "outlinewidth": 0,
             "ticks": ""
            },
            "type": "contourcarpet"
           }
          ],
          "heatmap": [
           {
            "colorbar": {
             "outlinewidth": 0,
             "ticks": ""
            },
            "colorscale": [
             [
              0,
              "#0d0887"
             ],
             [
              0.1111111111111111,
              "#46039f"
             ],
             [
              0.2222222222222222,
              "#7201a8"
             ],
             [
              0.3333333333333333,
              "#9c179e"
             ],
             [
              0.4444444444444444,
              "#bd3786"
             ],
             [
              0.5555555555555556,
              "#d8576b"
             ],
             [
              0.6666666666666666,
              "#ed7953"
             ],
             [
              0.7777777777777778,
              "#fb9f3a"
             ],
             [
              0.8888888888888888,
              "#fdca26"
             ],
             [
              1,
              "#f0f921"
             ]
            ],
            "type": "heatmap"
           }
          ],
          "heatmapgl": [
           {
            "colorbar": {
             "outlinewidth": 0,
             "ticks": ""
            },
            "colorscale": [
             [
              0,
              "#0d0887"
             ],
             [
              0.1111111111111111,
              "#46039f"
             ],
             [
              0.2222222222222222,
              "#7201a8"
             ],
             [
              0.3333333333333333,
              "#9c179e"
             ],
             [
              0.4444444444444444,
              "#bd3786"
             ],
             [
              0.5555555555555556,
              "#d8576b"
             ],
             [
              0.6666666666666666,
              "#ed7953"
             ],
             [
              0.7777777777777778,
              "#fb9f3a"
             ],
             [
              0.8888888888888888,
              "#fdca26"
             ],
             [
              1,
              "#f0f921"
             ]
            ],
            "type": "heatmapgl"
           }
          ],
          "histogram": [
           {
            "marker": {
             "pattern": {
              "fillmode": "overlay",
              "size": 10,
              "solidity": 0.2
             }
            },
            "type": "histogram"
           }
          ],
          "histogram2d": [
           {
            "colorbar": {
             "outlinewidth": 0,
             "ticks": ""
            },
            "colorscale": [
             [
              0,
              "#0d0887"
             ],
             [
              0.1111111111111111,
              "#46039f"
             ],
             [
              0.2222222222222222,
              "#7201a8"
             ],
             [
              0.3333333333333333,
              "#9c179e"
             ],
             [
              0.4444444444444444,
              "#bd3786"
             ],
             [
              0.5555555555555556,
              "#d8576b"
             ],
             [
              0.6666666666666666,
              "#ed7953"
             ],
             [
              0.7777777777777778,
              "#fb9f3a"
             ],
             [
              0.8888888888888888,
              "#fdca26"
             ],
             [
              1,
              "#f0f921"
             ]
            ],
            "type": "histogram2d"
           }
          ],
          "histogram2dcontour": [
           {
            "colorbar": {
             "outlinewidth": 0,
             "ticks": ""
            },
            "colorscale": [
             [
              0,
              "#0d0887"
             ],
             [
              0.1111111111111111,
              "#46039f"
             ],
             [
              0.2222222222222222,
              "#7201a8"
             ],
             [
              0.3333333333333333,
              "#9c179e"
             ],
             [
              0.4444444444444444,
              "#bd3786"
             ],
             [
              0.5555555555555556,
              "#d8576b"
             ],
             [
              0.6666666666666666,
              "#ed7953"
             ],
             [
              0.7777777777777778,
              "#fb9f3a"
             ],
             [
              0.8888888888888888,
              "#fdca26"
             ],
             [
              1,
              "#f0f921"
             ]
            ],
            "type": "histogram2dcontour"
           }
          ],
          "mesh3d": [
           {
            "colorbar": {
             "outlinewidth": 0,
             "ticks": ""
            },
            "type": "mesh3d"
           }
          ],
          "parcoords": [
           {
            "line": {
             "colorbar": {
              "outlinewidth": 0,
              "ticks": ""
             }
            },
            "type": "parcoords"
           }
          ],
          "pie": [
           {
            "automargin": true,
            "type": "pie"
           }
          ],
          "scatter": [
           {
            "marker": {
             "colorbar": {
              "outlinewidth": 0,
              "ticks": ""
             }
            },
            "type": "scatter"
           }
          ],
          "scatter3d": [
           {
            "line": {
             "colorbar": {
              "outlinewidth": 0,
              "ticks": ""
             }
            },
            "marker": {
             "colorbar": {
              "outlinewidth": 0,
              "ticks": ""
             }
            },
            "type": "scatter3d"
           }
          ],
          "scattercarpet": [
           {
            "marker": {
             "colorbar": {
              "outlinewidth": 0,
              "ticks": ""
             }
            },
            "type": "scattercarpet"
           }
          ],
          "scattergeo": [
           {
            "marker": {
             "colorbar": {
              "outlinewidth": 0,
              "ticks": ""
             }
            },
            "type": "scattergeo"
           }
          ],
          "scattergl": [
           {
            "marker": {
             "colorbar": {
              "outlinewidth": 0,
              "ticks": ""
             }
            },
            "type": "scattergl"
           }
          ],
          "scattermapbox": [
           {
            "marker": {
             "colorbar": {
              "outlinewidth": 0,
              "ticks": ""
             }
            },
            "type": "scattermapbox"
           }
          ],
          "scatterpolar": [
           {
            "marker": {
             "colorbar": {
              "outlinewidth": 0,
              "ticks": ""
             }
            },
            "type": "scatterpolar"
           }
          ],
          "scatterpolargl": [
           {
            "marker": {
             "colorbar": {
              "outlinewidth": 0,
              "ticks": ""
             }
            },
            "type": "scatterpolargl"
           }
          ],
          "scatterternary": [
           {
            "marker": {
             "colorbar": {
              "outlinewidth": 0,
              "ticks": ""
             }
            },
            "type": "scatterternary"
           }
          ],
          "surface": [
           {
            "colorbar": {
             "outlinewidth": 0,
             "ticks": ""
            },
            "colorscale": [
             [
              0,
              "#0d0887"
             ],
             [
              0.1111111111111111,
              "#46039f"
             ],
             [
              0.2222222222222222,
              "#7201a8"
             ],
             [
              0.3333333333333333,
              "#9c179e"
             ],
             [
              0.4444444444444444,
              "#bd3786"
             ],
             [
              0.5555555555555556,
              "#d8576b"
             ],
             [
              0.6666666666666666,
              "#ed7953"
             ],
             [
              0.7777777777777778,
              "#fb9f3a"
             ],
             [
              0.8888888888888888,
              "#fdca26"
             ],
             [
              1,
              "#f0f921"
             ]
            ],
            "type": "surface"
           }
          ],
          "table": [
           {
            "cells": {
             "fill": {
              "color": "#EBF0F8"
             },
             "line": {
              "color": "white"
             }
            },
            "header": {
             "fill": {
              "color": "#C8D4E3"
             },
             "line": {
              "color": "white"
             }
            },
            "type": "table"
           }
          ]
         },
         "layout": {
          "annotationdefaults": {
           "arrowcolor": "#2a3f5f",
           "arrowhead": 0,
           "arrowwidth": 1
          },
          "autotypenumbers": "strict",
          "coloraxis": {
           "colorbar": {
            "outlinewidth": 0,
            "ticks": ""
           }
          },
          "colorscale": {
           "diverging": [
            [
             0,
             "#8e0152"
            ],
            [
             0.1,
             "#c51b7d"
            ],
            [
             0.2,
             "#de77ae"
            ],
            [
             0.3,
             "#f1b6da"
            ],
            [
             0.4,
             "#fde0ef"
            ],
            [
             0.5,
             "#f7f7f7"
            ],
            [
             0.6,
             "#e6f5d0"
            ],
            [
             0.7,
             "#b8e186"
            ],
            [
             0.8,
             "#7fbc41"
            ],
            [
             0.9,
             "#4d9221"
            ],
            [
             1,
             "#276419"
            ]
           ],
           "sequential": [
            [
             0,
             "#0d0887"
            ],
            [
             0.1111111111111111,
             "#46039f"
            ],
            [
             0.2222222222222222,
             "#7201a8"
            ],
            [
             0.3333333333333333,
             "#9c179e"
            ],
            [
             0.4444444444444444,
             "#bd3786"
            ],
            [
             0.5555555555555556,
             "#d8576b"
            ],
            [
             0.6666666666666666,
             "#ed7953"
            ],
            [
             0.7777777777777778,
             "#fb9f3a"
            ],
            [
             0.8888888888888888,
             "#fdca26"
            ],
            [
             1,
             "#f0f921"
            ]
           ],
           "sequentialminus": [
            [
             0,
             "#0d0887"
            ],
            [
             0.1111111111111111,
             "#46039f"
            ],
            [
             0.2222222222222222,
             "#7201a8"
            ],
            [
             0.3333333333333333,
             "#9c179e"
            ],
            [
             0.4444444444444444,
             "#bd3786"
            ],
            [
             0.5555555555555556,
             "#d8576b"
            ],
            [
             0.6666666666666666,
             "#ed7953"
            ],
            [
             0.7777777777777778,
             "#fb9f3a"
            ],
            [
             0.8888888888888888,
             "#fdca26"
            ],
            [
             1,
             "#f0f921"
            ]
           ]
          },
          "colorway": [
           "#636efa",
           "#EF553B",
           "#00cc96",
           "#ab63fa",
           "#FFA15A",
           "#19d3f3",
           "#FF6692",
           "#B6E880",
           "#FF97FF",
           "#FECB52"
          ],
          "font": {
           "color": "#2a3f5f"
          },
          "geo": {
           "bgcolor": "white",
           "lakecolor": "white",
           "landcolor": "#E5ECF6",
           "showlakes": true,
           "showland": true,
           "subunitcolor": "white"
          },
          "hoverlabel": {
           "align": "left"
          },
          "hovermode": "closest",
          "mapbox": {
           "style": "light"
          },
          "paper_bgcolor": "white",
          "plot_bgcolor": "#E5ECF6",
          "polar": {
           "angularaxis": {
            "gridcolor": "white",
            "linecolor": "white",
            "ticks": ""
           },
           "bgcolor": "#E5ECF6",
           "radialaxis": {
            "gridcolor": "white",
            "linecolor": "white",
            "ticks": ""
           }
          },
          "scene": {
           "xaxis": {
            "backgroundcolor": "#E5ECF6",
            "gridcolor": "white",
            "gridwidth": 2,
            "linecolor": "white",
            "showbackground": true,
            "ticks": "",
            "zerolinecolor": "white"
           },
           "yaxis": {
            "backgroundcolor": "#E5ECF6",
            "gridcolor": "white",
            "gridwidth": 2,
            "linecolor": "white",
            "showbackground": true,
            "ticks": "",
            "zerolinecolor": "white"
           },
           "zaxis": {
            "backgroundcolor": "#E5ECF6",
            "gridcolor": "white",
            "gridwidth": 2,
            "linecolor": "white",
            "showbackground": true,
            "ticks": "",
            "zerolinecolor": "white"
           }
          },
          "shapedefaults": {
           "line": {
            "color": "#2a3f5f"
           }
          },
          "ternary": {
           "aaxis": {
            "gridcolor": "white",
            "linecolor": "white",
            "ticks": ""
           },
           "baxis": {
            "gridcolor": "white",
            "linecolor": "white",
            "ticks": ""
           },
           "bgcolor": "#E5ECF6",
           "caxis": {
            "gridcolor": "white",
            "linecolor": "white",
            "ticks": ""
           }
          },
          "title": {
           "x": 0.05
          },
          "xaxis": {
           "automargin": true,
           "gridcolor": "white",
           "linecolor": "white",
           "ticks": "",
           "title": {
            "standoff": 15
           },
           "zerolinecolor": "white",
           "zerolinewidth": 2
          },
          "yaxis": {
           "automargin": true,
           "gridcolor": "white",
           "linecolor": "white",
           "ticks": "",
           "title": {
            "standoff": 15
           },
           "zerolinecolor": "white",
           "zerolinewidth": 2
          }
         }
        },
        "title": {
         "text": "Big 3 Matches Performance"
        }
       }
      },
      "text/html": [
       "<div>                            <div id=\"af0b20df-9cb7-43ba-9ac9-ceb1c283e573\" class=\"plotly-graph-div\" style=\"height:525px; width:100%;\"></div>            <script type=\"text/javascript\">                require([\"plotly\"], function(Plotly) {                    window.PLOTLYENV=window.PLOTLYENV || {};                                    if (document.getElementById(\"af0b20df-9cb7-43ba-9ac9-ceb1c283e573\")) {                    Plotly.newPlot(                        \"af0b20df-9cb7-43ba-9ac9-ceb1c283e573\",                        [{\"marker\":{\"color\":\"rgba(255, 174, 255, 0.5)\",\"line\":{\"color\":\"rgb(0,0,0)\",\"width\":1.5}},\"name\":\"Finals Pct\",\"text\":[\"70.0%\",\"70.4%\",\"66.0%\"],\"type\":\"bar\",\"x\":[\"Novak Djokovic\",\"Rafael Nadal\",\"Roger Federer\"],\"y\":[70.0,70.4,66.0]},{\"marker\":{\"color\":\"rgba(255, 255, 128, 0.5)\",\"line\":{\"color\":\"rgb(0,0,0)\",\"width\":1.5}},\"name\":\"TieBreak Pct\",\"text\":[\"64.6%\",\"60.5%\",\"65.3%\"],\"type\":\"bar\",\"x\":[\"Novak Djokovic\",\"Rafael Nadal\",\"Roger Federer\"],\"y\":[64.6,60.5,65.3]},{\"marker\":{\"color\":\"rgba(255, 150, 56, 0.5)\",\"line\":{\"color\":\"rgb(0,0,0)\",\"width\":1.5}},\"name\":\"Deciding Set Pct\",\"text\":[\"73.4%\",\"69.1%\",\"64.4%\"],\"type\":\"bar\",\"x\":[\"Novak Djokovic\",\"Rafael Nadal\",\"Roger Federer\"],\"y\":[73.4,69.1,64.4]},{\"marker\":{\"color\":\"rgba(80, 150, 230, 0.5)\",\"line\":{\"color\":\"rgb(0,0,0)\",\"width\":1.5}},\"name\":\"Deciding Set Tiebreak Pct\",\"text\":[\"69.2%\",\"54.1%\",\"56.3%\"],\"type\":\"bar\",\"x\":[\"Novak Djokovic\",\"Rafael Nadal\",\"Roger Federer\"],\"y\":[69.2,54.1,56.3]},{\"marker\":{\"color\":\"rgba(80, 80, 80, 0.5)\",\"line\":{\"color\":\"rgb(0,0,0)\",\"width\":1.5}},\"name\":\"Fifth Set Pct\",\"text\":[\"77.3%\",\"64.7%\",\"57.4%\"],\"type\":\"bar\",\"x\":[\"Novak Djokovic\",\"Rafael Nadal\",\"Roger Federer\"],\"y\":[77.3,64.7,57.4]}],                        {\"barmode\":\"group\",\"template\":{\"data\":{\"bar\":[{\"error_x\":{\"color\":\"#2a3f5f\"},\"error_y\":{\"color\":\"#2a3f5f\"},\"marker\":{\"line\":{\"color\":\"#E5ECF6\",\"width\":0.5},\"pattern\":{\"fillmode\":\"overlay\",\"size\":10,\"solidity\":0.2}},\"type\":\"bar\"}],\"barpolar\":[{\"marker\":{\"line\":{\"color\":\"#E5ECF6\",\"width\":0.5},\"pattern\":{\"fillmode\":\"overlay\",\"size\":10,\"solidity\":0.2}},\"type\":\"barpolar\"}],\"carpet\":[{\"aaxis\":{\"endlinecolor\":\"#2a3f5f\",\"gridcolor\":\"white\",\"linecolor\":\"white\",\"minorgridcolor\":\"white\",\"startlinecolor\":\"#2a3f5f\"},\"baxis\":{\"endlinecolor\":\"#2a3f5f\",\"gridcolor\":\"white\",\"linecolor\":\"white\",\"minorgridcolor\":\"white\",\"startlinecolor\":\"#2a3f5f\"},\"type\":\"carpet\"}],\"choropleth\":[{\"colorbar\":{\"outlinewidth\":0,\"ticks\":\"\"},\"type\":\"choropleth\"}],\"contour\":[{\"colorbar\":{\"outlinewidth\":0,\"ticks\":\"\"},\"colorscale\":[[0.0,\"#0d0887\"],[0.1111111111111111,\"#46039f\"],[0.2222222222222222,\"#7201a8\"],[0.3333333333333333,\"#9c179e\"],[0.4444444444444444,\"#bd3786\"],[0.5555555555555556,\"#d8576b\"],[0.6666666666666666,\"#ed7953\"],[0.7777777777777778,\"#fb9f3a\"],[0.8888888888888888,\"#fdca26\"],[1.0,\"#f0f921\"]],\"type\":\"contour\"}],\"contourcarpet\":[{\"colorbar\":{\"outlinewidth\":0,\"ticks\":\"\"},\"type\":\"contourcarpet\"}],\"heatmap\":[{\"colorbar\":{\"outlinewidth\":0,\"ticks\":\"\"},\"colorscale\":[[0.0,\"#0d0887\"],[0.1111111111111111,\"#46039f\"],[0.2222222222222222,\"#7201a8\"],[0.3333333333333333,\"#9c179e\"],[0.4444444444444444,\"#bd3786\"],[0.5555555555555556,\"#d8576b\"],[0.6666666666666666,\"#ed7953\"],[0.7777777777777778,\"#fb9f3a\"],[0.8888888888888888,\"#fdca26\"],[1.0,\"#f0f921\"]],\"type\":\"heatmap\"}],\"heatmapgl\":[{\"colorbar\":{\"outlinewidth\":0,\"ticks\":\"\"},\"colorscale\":[[0.0,\"#0d0887\"],[0.1111111111111111,\"#46039f\"],[0.2222222222222222,\"#7201a8\"],[0.3333333333333333,\"#9c179e\"],[0.4444444444444444,\"#bd3786\"],[0.5555555555555556,\"#d8576b\"],[0.6666666666666666,\"#ed7953\"],[0.7777777777777778,\"#fb9f3a\"],[0.8888888888888888,\"#fdca26\"],[1.0,\"#f0f921\"]],\"type\":\"heatmapgl\"}],\"histogram\":[{\"marker\":{\"pattern\":{\"fillmode\":\"overlay\",\"size\":10,\"solidity\":0.2}},\"type\":\"histogram\"}],\"histogram2d\":[{\"colorbar\":{\"outlinewidth\":0,\"ticks\":\"\"},\"colorscale\":[[0.0,\"#0d0887\"],[0.1111111111111111,\"#46039f\"],[0.2222222222222222,\"#7201a8\"],[0.3333333333333333,\"#9c179e\"],[0.4444444444444444,\"#bd3786\"],[0.5555555555555556,\"#d8576b\"],[0.6666666666666666,\"#ed7953\"],[0.7777777777777778,\"#fb9f3a\"],[0.8888888888888888,\"#fdca26\"],[1.0,\"#f0f921\"]],\"type\":\"histogram2d\"}],\"histogram2dcontour\":[{\"colorbar\":{\"outlinewidth\":0,\"ticks\":\"\"},\"colorscale\":[[0.0,\"#0d0887\"],[0.1111111111111111,\"#46039f\"],[0.2222222222222222,\"#7201a8\"],[0.3333333333333333,\"#9c179e\"],[0.4444444444444444,\"#bd3786\"],[0.5555555555555556,\"#d8576b\"],[0.6666666666666666,\"#ed7953\"],[0.7777777777777778,\"#fb9f3a\"],[0.8888888888888888,\"#fdca26\"],[1.0,\"#f0f921\"]],\"type\":\"histogram2dcontour\"}],\"mesh3d\":[{\"colorbar\":{\"outlinewidth\":0,\"ticks\":\"\"},\"type\":\"mesh3d\"}],\"parcoords\":[{\"line\":{\"colorbar\":{\"outlinewidth\":0,\"ticks\":\"\"}},\"type\":\"parcoords\"}],\"pie\":[{\"automargin\":true,\"type\":\"pie\"}],\"scatter\":[{\"marker\":{\"colorbar\":{\"outlinewidth\":0,\"ticks\":\"\"}},\"type\":\"scatter\"}],\"scatter3d\":[{\"line\":{\"colorbar\":{\"outlinewidth\":0,\"ticks\":\"\"}},\"marker\":{\"colorbar\":{\"outlinewidth\":0,\"ticks\":\"\"}},\"type\":\"scatter3d\"}],\"scattercarpet\":[{\"marker\":{\"colorbar\":{\"outlinewidth\":0,\"ticks\":\"\"}},\"type\":\"scattercarpet\"}],\"scattergeo\":[{\"marker\":{\"colorbar\":{\"outlinewidth\":0,\"ticks\":\"\"}},\"type\":\"scattergeo\"}],\"scattergl\":[{\"marker\":{\"colorbar\":{\"outlinewidth\":0,\"ticks\":\"\"}},\"type\":\"scattergl\"}],\"scattermapbox\":[{\"marker\":{\"colorbar\":{\"outlinewidth\":0,\"ticks\":\"\"}},\"type\":\"scattermapbox\"}],\"scatterpolar\":[{\"marker\":{\"colorbar\":{\"outlinewidth\":0,\"ticks\":\"\"}},\"type\":\"scatterpolar\"}],\"scatterpolargl\":[{\"marker\":{\"colorbar\":{\"outlinewidth\":0,\"ticks\":\"\"}},\"type\":\"scatterpolargl\"}],\"scatterternary\":[{\"marker\":{\"colorbar\":{\"outlinewidth\":0,\"ticks\":\"\"}},\"type\":\"scatterternary\"}],\"surface\":[{\"colorbar\":{\"outlinewidth\":0,\"ticks\":\"\"},\"colorscale\":[[0.0,\"#0d0887\"],[0.1111111111111111,\"#46039f\"],[0.2222222222222222,\"#7201a8\"],[0.3333333333333333,\"#9c179e\"],[0.4444444444444444,\"#bd3786\"],[0.5555555555555556,\"#d8576b\"],[0.6666666666666666,\"#ed7953\"],[0.7777777777777778,\"#fb9f3a\"],[0.8888888888888888,\"#fdca26\"],[1.0,\"#f0f921\"]],\"type\":\"surface\"}],\"table\":[{\"cells\":{\"fill\":{\"color\":\"#EBF0F8\"},\"line\":{\"color\":\"white\"}},\"header\":{\"fill\":{\"color\":\"#C8D4E3\"},\"line\":{\"color\":\"white\"}},\"type\":\"table\"}]},\"layout\":{\"annotationdefaults\":{\"arrowcolor\":\"#2a3f5f\",\"arrowhead\":0,\"arrowwidth\":1},\"autotypenumbers\":\"strict\",\"coloraxis\":{\"colorbar\":{\"outlinewidth\":0,\"ticks\":\"\"}},\"colorscale\":{\"diverging\":[[0,\"#8e0152\"],[0.1,\"#c51b7d\"],[0.2,\"#de77ae\"],[0.3,\"#f1b6da\"],[0.4,\"#fde0ef\"],[0.5,\"#f7f7f7\"],[0.6,\"#e6f5d0\"],[0.7,\"#b8e186\"],[0.8,\"#7fbc41\"],[0.9,\"#4d9221\"],[1,\"#276419\"]],\"sequential\":[[0.0,\"#0d0887\"],[0.1111111111111111,\"#46039f\"],[0.2222222222222222,\"#7201a8\"],[0.3333333333333333,\"#9c179e\"],[0.4444444444444444,\"#bd3786\"],[0.5555555555555556,\"#d8576b\"],[0.6666666666666666,\"#ed7953\"],[0.7777777777777778,\"#fb9f3a\"],[0.8888888888888888,\"#fdca26\"],[1.0,\"#f0f921\"]],\"sequentialminus\":[[0.0,\"#0d0887\"],[0.1111111111111111,\"#46039f\"],[0.2222222222222222,\"#7201a8\"],[0.3333333333333333,\"#9c179e\"],[0.4444444444444444,\"#bd3786\"],[0.5555555555555556,\"#d8576b\"],[0.6666666666666666,\"#ed7953\"],[0.7777777777777778,\"#fb9f3a\"],[0.8888888888888888,\"#fdca26\"],[1.0,\"#f0f921\"]]},\"colorway\":[\"#636efa\",\"#EF553B\",\"#00cc96\",\"#ab63fa\",\"#FFA15A\",\"#19d3f3\",\"#FF6692\",\"#B6E880\",\"#FF97FF\",\"#FECB52\"],\"font\":{\"color\":\"#2a3f5f\"},\"geo\":{\"bgcolor\":\"white\",\"lakecolor\":\"white\",\"landcolor\":\"#E5ECF6\",\"showlakes\":true,\"showland\":true,\"subunitcolor\":\"white\"},\"hoverlabel\":{\"align\":\"left\"},\"hovermode\":\"closest\",\"mapbox\":{\"style\":\"light\"},\"paper_bgcolor\":\"white\",\"plot_bgcolor\":\"#E5ECF6\",\"polar\":{\"angularaxis\":{\"gridcolor\":\"white\",\"linecolor\":\"white\",\"ticks\":\"\"},\"bgcolor\":\"#E5ECF6\",\"radialaxis\":{\"gridcolor\":\"white\",\"linecolor\":\"white\",\"ticks\":\"\"}},\"scene\":{\"xaxis\":{\"backgroundcolor\":\"#E5ECF6\",\"gridcolor\":\"white\",\"gridwidth\":2,\"linecolor\":\"white\",\"showbackground\":true,\"ticks\":\"\",\"zerolinecolor\":\"white\"},\"yaxis\":{\"backgroundcolor\":\"#E5ECF6\",\"gridcolor\":\"white\",\"gridwidth\":2,\"linecolor\":\"white\",\"showbackground\":true,\"ticks\":\"\",\"zerolinecolor\":\"white\"},\"zaxis\":{\"backgroundcolor\":\"#E5ECF6\",\"gridcolor\":\"white\",\"gridwidth\":2,\"linecolor\":\"white\",\"showbackground\":true,\"ticks\":\"\",\"zerolinecolor\":\"white\"}},\"shapedefaults\":{\"line\":{\"color\":\"#2a3f5f\"}},\"ternary\":{\"aaxis\":{\"gridcolor\":\"white\",\"linecolor\":\"white\",\"ticks\":\"\"},\"baxis\":{\"gridcolor\":\"white\",\"linecolor\":\"white\",\"ticks\":\"\"},\"bgcolor\":\"#E5ECF6\",\"caxis\":{\"gridcolor\":\"white\",\"linecolor\":\"white\",\"ticks\":\"\"}},\"title\":{\"x\":0.05},\"xaxis\":{\"automargin\":true,\"gridcolor\":\"white\",\"linecolor\":\"white\",\"ticks\":\"\",\"title\":{\"standoff\":15},\"zerolinecolor\":\"white\",\"zerolinewidth\":2},\"yaxis\":{\"automargin\":true,\"gridcolor\":\"white\",\"linecolor\":\"white\",\"ticks\":\"\",\"title\":{\"standoff\":15},\"zerolinecolor\":\"white\",\"zerolinewidth\":2}}},\"title\":{\"text\":\"Big 3 Matches Performance\"}},                        {\"responsive\": true}                    ).then(function(){\n",
       "                            \n",
       "var gd = document.getElementById('af0b20df-9cb7-43ba-9ac9-ceb1c283e573');\n",
       "var x = new MutationObserver(function (mutations, observer) {{\n",
       "        var display = window.getComputedStyle(gd).display;\n",
       "        if (!display || display === 'none') {{\n",
       "            console.log([gd, 'removed!']);\n",
       "            Plotly.purge(gd);\n",
       "            observer.disconnect();\n",
       "        }}\n",
       "}});\n",
       "\n",
       "// Listen for the removal of the full notebook cells\n",
       "var notebookContainer = gd.closest('#notebook-container');\n",
       "if (notebookContainer) {{\n",
       "    x.observe(notebookContainer, {childList: true});\n",
       "}}\n",
       "\n",
       "// Listen for the clearing of the current output cell\n",
       "var outputEl = gd.closest('.output');\n",
       "if (outputEl) {{\n",
       "    x.observe(outputEl, {childList: true});\n",
       "}}\n",
       "\n",
       "                        })                };                });            </script>        </div>"
      ]
     },
     "metadata": {},
     "output_type": "display_data"
    }
   ],
   "source": [
    "# prepare data frames\n",
    "big3_MT\n",
    "\n",
    "# create trace1 \n",
    "trace1 = go.Bar(x = big3_MT['name'],\n",
    "               y = [70.0, 70.4, 66.0],\n",
    "               name = 'Finals Pct',\n",
    "               marker = dict(color = 'rgba(255, 174, 255, 0.5)',\n",
    "                            line = dict(color='rgb(0,0,0)', width = 1.5)),\n",
    "               text = big3_MT['finalsPct'])\n",
    "               \n",
    "\n",
    "trace2 = go.Bar(x = big3_MT['name'],\n",
    "               y = [64.6, 60.5, 65.3],\n",
    "               name = 'TieBreak Pct',\n",
    "               marker = dict(color = 'rgba(255, 255, 128, 0.5)',\n",
    "                            line = dict(color='rgb(0,0,0)', width = 1.5)),\n",
    "               text = big3_MT['tieBreaksPct'])\n",
    "\n",
    "trace3 = go.Bar(x = big3_MT['name'],\n",
    "               y = [73.4, 69.1, 64.4],\n",
    "               name = 'Deciding Set Pct',\n",
    "               marker = dict(color = 'rgba(255, 150, 56, 0.5)',\n",
    "                            line = dict(color='rgb(0,0,0)', width = 1.5)),\n",
    "               text = big3_MT['decidingSetsPct'])\n",
    "\n",
    "trace4 = go.Bar(x = big3_MT['name'],\n",
    "               y = [69.2, 54.1, 56.3],\n",
    "               name = 'Deciding Set Tiebreak Pct',\n",
    "               marker = dict(color = 'rgba(80, 150, 230, 0.5)',\n",
    "                            line = dict(color='rgb(0,0,0)', width = 1.5)),\n",
    "               text = big3_MT['decidingSetTieBreaksPct'])\n",
    "\n",
    "trace5 = go.Bar(x = big3_MT['name'],\n",
    "               y = [77.3, 64.7, 57.4],\n",
    "               name = 'Fifth Set Pct',\n",
    "               marker = dict(color = 'rgba(80, 80, 80, 0.5)',\n",
    "                            line = dict(color='rgb(0,0,0)', width = 1.5)),\n",
    "               text = big3_MT['fifthSetsPct'])\n",
    "\n",
    "\n",
    "data = [trace1, trace2, trace3, trace4, trace5]\n",
    "\n",
    "layout = go.Layout(barmode = \"group\", title = 'Big 3 Matches Performance')\n",
    "\n",
    "fig = go.Figure(data = data, layout = layout)\n",
    "\n",
    "iplot(fig)"
   ]
  },
  {
   "cell_type": "code",
   "execution_count": null,
   "id": "8e63698c",
   "metadata": {},
   "outputs": [],
   "source": []
  },
  {
   "cell_type": "code",
   "execution_count": null,
   "id": "c34d064f",
   "metadata": {},
   "outputs": [],
   "source": []
  },
  {
   "cell_type": "code",
   "execution_count": null,
   "id": "d45fdaaf",
   "metadata": {},
   "outputs": [],
   "source": []
  }
 ],
 "metadata": {
  "kernelspec": {
   "display_name": "Python 3",
   "language": "python",
   "name": "python3"
  },
  "language_info": {
   "codemirror_mode": {
    "name": "ipython",
    "version": 3
   },
   "file_extension": ".py",
   "mimetype": "text/x-python",
   "name": "python",
   "nbconvert_exporter": "python",
   "pygments_lexer": "ipython3",
   "version": "3.8.8"
  }
 },
 "nbformat": 4,
 "nbformat_minor": 5
}
